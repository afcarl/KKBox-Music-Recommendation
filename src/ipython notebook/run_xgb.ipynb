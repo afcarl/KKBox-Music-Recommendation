{
 "cells": [
  {
   "cell_type": "code",
   "execution_count": 1,
   "metadata": {
    "collapsed": true
   },
   "outputs": [],
   "source": [
    "import numpy as np\n",
    "import pandas as pd\n",
    "# import lightgbm as lgb\n",
    "import datetime\n",
    "import math\n",
    "import gc\n",
    "from tqdm import tqdm\n",
    "from sklearn.preprocessing import LabelEncoder\n",
    "import numpy as np\n",
    "import pandas as pd\n",
    "import sklearn\n",
    "from sklearn.model_selection import train_test_split\n",
    "from sklearn.preprocessing import LabelEncoder\n",
    "from sklearn.metrics import roc_auc_score\n",
    "from sklearn.metrics import accuracy_score\n",
    "from tqdm import tqdm\n",
    "import xgboost as xgb\n",
    "from sklearn import svm\n",
    "import matplotlib.pyplot as plt\n",
    "\n",
    "import sklearn.metrics"
   ]
  },
  {
   "cell_type": "code",
   "execution_count": 2,
   "metadata": {
    "collapsed": true
   },
   "outputs": [],
   "source": [
    "def cal_auc(y_pred_prob,y):\n",
    "    fpr, tpr, thresholds = sklearn.metrics.roc_curve(y, y_pred_prob, pos_label=1)\n",
    "    print sklearn.metrics.auc(fpr, tpr)\n",
    "\n",
    "def roccurve(y,scores):\n",
    "    fpr=np.zeros(len(y))\n",
    "    tpr=np.zeros(len(y))\n",
    "#    fpr[len(y)-1]=1\n",
    "#    tpr[len(y)-1]=1\n",
    "    t=sorted(zip(scores,y),reverse=True)\n",
    "    y=np.array([t[i][1] for i in range(len(t))])\n",
    "    scores=np.array([t[i][0] for i in range(len(t))])\n",
    "    for i in range(len(y)):\n",
    "        if i%100==0:\n",
    "            print i,'cal'\n",
    "        temp1=zip(scores[:i+1],y[:i+1])\n",
    "        temp2=zip(scores[i+1:],y[i+1:])\n",
    "        TP=sum(np.array([temp1[j][1] for j in range(len(temp1))]))\n",
    "        FN=sum(np.array([temp2[j][1] for j in range(len(temp2))]))\n",
    "        FP=len(temp1)-TP\n",
    "        TN=len(temp2)-FN\n",
    "        tpr[i]=TP/(sum(np.array([t[j][1] for j in range(len(t))]))).astype(float)\n",
    "        fpr[i]=FP/(len(t)-sum(np.array([t[j][1] for j in range(len(t))]))).astype(float)\n",
    "    x=np.append([0],list(fpr))\n",
    "    y=np.append([0],list(tpr))\n",
    "    x=list(x)\n",
    "    y=list(y)\n",
    "    print 'roc cal end...'\n",
    "    plt.figure(figsize=(2,2))  \n",
    "    plt.plot(x,y,\"b--\",linewidth=1)     \n",
    "    plt.xlabel(\"Time(s)\") \n",
    "    plt.ylabel(\"Volt\")  \n",
    "    plt.title(\"Line plot\") \n",
    "    plt.show() \n",
    "    plt.savefig(\"line.jpg\")\n",
    "    return fpr, tpr\n",
    "\n",
    "def aucarea(fpr, tpr):\n",
    "    area=0\n",
    "    a=[0,0]\n",
    "    b=[0,0]\n",
    "    for i in range(len(tpr)):\n",
    "        b[0]=fpr[i]\n",
    "        b[1]=tpr[i]\n",
    "        if b[1]==a[1] and b[0]>a[0]:\n",
    "            area+=b[1]*(b[0]-a[0])\n",
    "        a[0]=b[0]\n",
    "        a[1]=b[1]\n",
    "    return area"
   ]
  },
  {
   "cell_type": "markdown",
   "metadata": {},
   "source": [
    "## Loading data and romve selected features(index 8 and index 33)"
   ]
  },
  {
   "cell_type": "code",
   "execution_count": 3,
   "metadata": {
    "collapsed": false
   },
   "outputs": [
    {
     "name": "stdout",
     "output_type": "stream",
     "text": [
      "loading data...\n",
      "get training data...\n"
     ]
    }
   ],
   "source": [
    "print 'loading data...'\n",
    "concat=np.load('../inputs/concat4Kaggle.npy')\n",
    "\n",
    "np.random.shuffle(concat)\n",
    "\n",
    "print 'get training data...'\n",
    "concat_experiment=concat[:concat.shape[0]/50,:]\n",
    "\n",
    "concat_experiment_refine=np.concatenate((concat_experiment[:,:8],concat_experiment[:,8+1:]),axis=1) #del original index 8 column\n",
    "concat_experiment_refine=np.concatenate((concat_experiment_refine[:,:32],concat_experiment_refine[:,32+1:]),axis=1) #del original index 33 col\n",
    "# concat_experiment_refine=np.concatenate((concat_experiment_refine[:,:5],concat_experiment_refine[:,7:21],concat_experiment_refine[:,23:24],concat_experiment_refine[:,25:]),axis=1)\n",
    "#22,5,21,6,24"
   ]
  },
  {
   "cell_type": "code",
   "execution_count": 4,
   "metadata": {
    "collapsed": true
   },
   "outputs": [],
   "source": [
    "def aveVar(aucs):\n",
    "    aucs=np.array(aucs)\n",
    "    average=np.mean(aucs)\n",
    "    var=np.var(aucs)\n",
    "    print 'average auc:{}, var :{}'.format(average,var)\n",
    "    return average\n",
    "    \n",
    "    \n",
    "def modelTrain_XGB(model,X_train,y_train,X_test):\n",
    "    \n",
    "    model.fit(X_train,y_train,eval_metric='auc')\n",
    "#     model.fit(X_train,y_train)\n",
    "    XGBcheck_score=model.predict_proba(X_test)\n",
    "    return XGBcheck_score[:,1]\n",
    "\n",
    "\n",
    "def kFoldCV(model,param,K,concat_experiment_refine):\n",
    "    start=0\n",
    "    dataLen=concat_experiment_refine.shape[0]/K\n",
    "    aucs=[]\n",
    "    print '**************** new model,params:max_depth-{},learning_rate-{},n_estimator-{} ***********************'.format(param.split(',')[0],param.split(',')[1],param.split(',')[2])\n",
    "    for i in range(K):\n",
    "        X_test_cv=concat_experiment_refine[start:(start+dataLen),:-1]\n",
    "        y_test_cv=concat_experiment_refine[start:(start+dataLen),-1]\n",
    "        y_test_cv=y_test_cv.reshape([y_test_cv.shape[0],])\n",
    "\n",
    "        train_idx=np.array(range(0,start)+range(start+dataLen,concat_experiment_refine.shape[0]))\n",
    "        X_train_cv=concat_experiment_refine[train_idx[:None],:-1]\n",
    "        y_train_cv=concat_experiment_refine[train_idx[:,None],-1]\n",
    "        y_train_cv=y_train_cv.reshape([y_train_cv.shape[0],])\n",
    "        print 'X_train shape:{}, y_train_cv:{},X_test shape:{}, y_test shape:{}'.format(X_train_cv.shape,y_train_cv.shape,X_test_cv.shape,y_test_cv.shape)\n",
    "        start+=dataLen\n",
    "\n",
    "        y_pred=modelTrain_XGB(model,X_train_cv,y_train_cv,X_test_cv)\n",
    "\n",
    "#         model.fit(X_train_cv,y_train_cv,eval_metric='auc')\n",
    "#         y_pred = model.predict(X_test_cv)\n",
    "        auc=roc_auc_score(y_test_cv, y_pred)\n",
    "#         accuracy=accuracy_score(y_test_cv, y_pred)\n",
    "#         print \"auccuracy is\",accuracy\n",
    "#         aucs.append(auc)\n",
    "        print \"auc is\",auc\n",
    "        aucs.append(auc)\n",
    "    print aucs\n",
    "    return aveVar(aucs)"
   ]
  },
  {
   "cell_type": "markdown",
   "metadata": {},
   "source": [
    "## 5 fold cross validation"
   ]
  },
  {
   "cell_type": "code",
   "execution_count": 5,
   "metadata": {
    "collapsed": false
   },
   "outputs": [
    {
     "name": "stdout",
     "output_type": "stream",
     "text": [
      "cross validation on xgb...\n",
      "**************** new model,params:max_depth-12,learning_rate-0.06667,n_estimator-180 ***********************\n",
      "X_train shape:(118039, 32), y_train_cv:(118039,),X_test shape:(29509, 32), y_test shape:(29509,)\n",
      "auc is 0.707373035826\n",
      "X_train shape:(118039, 32), y_train_cv:(118039,),X_test shape:(29509, 32), y_test shape:(29509,)\n",
      "auc is 0.704878720154\n",
      "X_train shape:(118039, 32), y_train_cv:(118039,),X_test shape:(29509, 32), y_test shape:(29509,)\n",
      "auc is 0.704364376548\n",
      "X_train shape:(118039, 32), y_train_cv:(118039,),X_test shape:(29509, 32), y_test shape:(29509,)\n",
      "auc is 0.700907650699\n",
      "X_train shape:(118039, 32), y_train_cv:(118039,),X_test shape:(29509, 32), y_test shape:(29509,)\n",
      "auc is 0.706937935087\n",
      "[0.70737303582557143, 0.70487872015389264, 0.70436437654769124, 0.70090765069891581, 0.70693793508701841]\n",
      "average auc:0.704892343663, var :5.29899815447e-06\n"
     ]
    },
    {
     "data": {
      "text/plain": [
       "0.70489234366261788"
      ]
     },
     "execution_count": 5,
     "metadata": {},
     "output_type": "execute_result"
    }
   ],
   "source": [
    "xgbmodel=xgb.XGBClassifier(max_depth=12,\n",
    "                                        objective='binary:logistic',\n",
    "                                        learning_rate=0.0666667,\n",
    "                                        n_estimators=180\n",
    "                                        )\n",
    "# 12,0.0666666666667,180 --.651274\n",
    "# 10 0.1 150 --0.65049\n",
    "#12 0.1 80 ---0.649\n",
    "print 'cross validation on xgb...'\n",
    "kFoldCV(xgbmodel,'12,0.06667,180',5,concat_experiment_refine)\n",
    "#0.65514"
   ]
  },
  {
   "cell_type": "markdown",
   "metadata": {},
   "source": [
    "## Train xgboost again for roc curve plotting"
   ]
  },
  {
   "cell_type": "code",
   "execution_count": 6,
   "metadata": {
    "collapsed": false
   },
   "outputs": [
    {
     "name": "stdout",
     "output_type": "stream",
     "text": [
      "training xgb for roc curve...\n",
      "0.703931573931\n"
     ]
    }
   ],
   "source": [
    "print 'training xgb for roc curve...'\n",
    "trainLen=int(concat_experiment_refine.shape[0]*0.8)\n",
    "\n",
    "concat_X_train,concat_X_test,concat_y_train,concat_y_test=concat_experiment_refine[:trainLen,:-1],concat_experiment_refine[trainLen:,:-1],concat_experiment_refine[:trainLen,-1],concat_experiment_refine[trainLen:,-1]\n",
    "\n",
    "xgbmodel.fit(concat_X_train,concat_y_train,eval_metric='auc')\n",
    "XGBcheck_score=xgbmodel.predict_proba(\n",
    "concat_X_test\n",
    ")\n",
    "\n",
    "y4plot=np.zeros([concat_y_test.shape[0],2])\n",
    "i=0\n",
    "for y in concat_y_test:\n",
    "    if y==1:\n",
    "        y4plot[i,1]=1\n",
    "    else:\n",
    "        y4plot[i,0]=1\n",
    "    i+=1\n",
    "\n",
    "cal_auc(XGBcheck_score[:,1],concat_y_test)"
   ]
  },
  {
   "cell_type": "markdown",
   "metadata": {},
   "source": [
    "## plot the ruc curve"
   ]
  },
  {
   "cell_type": "code",
   "execution_count": 7,
   "metadata": {
    "collapsed": false
   },
   "outputs": [
    {
     "data": {
      "image/png": "[encoded data removed]",
      "text/plain": [
       "<matplotlib.figure.Figure at 0x1146a7d10>"
      ]
     },
     "metadata": {},
     "output_type": "display_data"
    }
   ],
   "source": [
    "\n",
    "fpr = dict()\n",
    "tpr = dict()\n",
    "roc_auc = dict()\n",
    "n_classes=2\n",
    "for i in range(n_classes):\n",
    "#     print i\n",
    "    fpr[i], tpr[i], _ =roccurve(y4plot[:, i].astype(float), XGBcheck_score[:, i].astype(float))\n",
    "    roc_auc[i] = aucarea(fpr[i], tpr[i])\n",
    "\n",
    "# Compute micro-average ROC curve and ROC area\n",
    "fpr[\"micro\"], tpr[\"micro\"], _ = roccurve(y4plot.ravel(), XGBcheck_score.ravel())\n",
    "roc_auc[\"micro\"] = aucarea(fpr[\"micro\"], tpr[\"micro\"])\n",
    "\n",
    "\n",
    "plt.figure()\n",
    "lw = 2\n",
    "plt.plot(fpr[1], tpr[1], color='darkorange',\n",
    "         lw=lw, label='ROC curve (area = %0.3f)' % roc_auc[1])\n",
    "plt.plot([0, 1], [0, 1], color='navy', lw=lw, linestyle='--')\n",
    "plt.xlim([0.0, 1.0])\n",
    "plt.ylim([0.0, 1.05])\n",
    "plt.xlabel('False Positive Rate')\n",
    "plt.ylabel('True Positive Rate')\n",
    "plt.title('Receiver operating characteristic XGBOOST')\n",
    "plt.legend(loc=\"lower right\")\n",
    "plt.show()"
   ]
  },
  {
   "cell_type": "code",
   "execution_count": null,
   "metadata": {
    "collapsed": true
   },
   "outputs": [],
   "source": []
  }
 ],
 "metadata": {
  "kernelspec": {
   "display_name": "Python 2",
   "language": "python",
   "name": "python2"
  },
  "language_info": {
   "codemirror_mode": {
    "name": "ipython",
    "version": 2
   },
   "file_extension": ".py",
   "mimetype": "text/x-python",
   "name": "python",
   "nbconvert_exporter": "python",
   "pygments_lexer": "ipython2",
   "version": "2.7.12"
  }
 },
 "nbformat": 4,
 "nbformat_minor": 2
}
